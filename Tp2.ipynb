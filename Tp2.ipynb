{
 "cells": [
  {
   "cell_type": "code",
   "execution_count": null,
   "metadata": {},
   "outputs": [],
   "source": [
    "pip install matplotlib"
   ]
  },
  {
   "cell_type": "code",
   "execution_count": 3,
   "metadata": {},
   "outputs": [],
   "source": [
    "'''\n",
    "TP2 ALC\n",
    "'''\n",
    "\n",
    "import numpy as np\n",
    "import pandas as pd\n",
    "import matplotlib.pyplot as plt\n",
    "\n",
    "# leemos los .csv\n",
    "\n",
    "train = pd.read_csv('mnist_train.csv',names=np.linspace(0,784,785))\n",
    "test = pd.read_csv('mnist_test.csv',names=np.linspace(0,784,785))\n"
   ]
  },
  {
   "cell_type": "code",
   "execution_count": 5,
   "metadata": {},
   "outputs": [
    {
     "data": {
      "text/html": [
       "<div>\n",
       "<style scoped>\n",
       "    .dataframe tbody tr th:only-of-type {\n",
       "        vertical-align: middle;\n",
       "    }\n",
       "\n",
       "    .dataframe tbody tr th {\n",
       "        vertical-align: top;\n",
       "    }\n",
       "\n",
       "    .dataframe thead th {\n",
       "        text-align: right;\n",
       "    }\n",
       "</style>\n",
       "<table border=\"1\" class=\"dataframe\">\n",
       "  <thead>\n",
       "    <tr style=\"text-align: right;\">\n",
       "      <th></th>\n",
       "      <th>0.0</th>\n",
       "      <th>1.0</th>\n",
       "      <th>2.0</th>\n",
       "      <th>3.0</th>\n",
       "      <th>4.0</th>\n",
       "      <th>5.0</th>\n",
       "      <th>6.0</th>\n",
       "      <th>7.0</th>\n",
       "      <th>8.0</th>\n",
       "      <th>9.0</th>\n",
       "      <th>...</th>\n",
       "      <th>775.0</th>\n",
       "      <th>776.0</th>\n",
       "      <th>777.0</th>\n",
       "      <th>778.0</th>\n",
       "      <th>779.0</th>\n",
       "      <th>780.0</th>\n",
       "      <th>781.0</th>\n",
       "      <th>782.0</th>\n",
       "      <th>783.0</th>\n",
       "      <th>784.0</th>\n",
       "    </tr>\n",
       "  </thead>\n",
       "  <tbody>\n",
       "    <tr>\n",
       "      <th>0</th>\n",
       "      <td>5</td>\n",
       "      <td>0</td>\n",
       "      <td>0</td>\n",
       "      <td>0</td>\n",
       "      <td>0</td>\n",
       "      <td>0</td>\n",
       "      <td>0</td>\n",
       "      <td>0</td>\n",
       "      <td>0</td>\n",
       "      <td>0</td>\n",
       "      <td>...</td>\n",
       "      <td>0</td>\n",
       "      <td>0</td>\n",
       "      <td>0</td>\n",
       "      <td>0</td>\n",
       "      <td>0</td>\n",
       "      <td>0</td>\n",
       "      <td>0</td>\n",
       "      <td>0</td>\n",
       "      <td>0</td>\n",
       "      <td>0</td>\n",
       "    </tr>\n",
       "    <tr>\n",
       "      <th>1</th>\n",
       "      <td>0</td>\n",
       "      <td>0</td>\n",
       "      <td>0</td>\n",
       "      <td>0</td>\n",
       "      <td>0</td>\n",
       "      <td>0</td>\n",
       "      <td>0</td>\n",
       "      <td>0</td>\n",
       "      <td>0</td>\n",
       "      <td>0</td>\n",
       "      <td>...</td>\n",
       "      <td>0</td>\n",
       "      <td>0</td>\n",
       "      <td>0</td>\n",
       "      <td>0</td>\n",
       "      <td>0</td>\n",
       "      <td>0</td>\n",
       "      <td>0</td>\n",
       "      <td>0</td>\n",
       "      <td>0</td>\n",
       "      <td>0</td>\n",
       "    </tr>\n",
       "    <tr>\n",
       "      <th>2</th>\n",
       "      <td>4</td>\n",
       "      <td>0</td>\n",
       "      <td>0</td>\n",
       "      <td>0</td>\n",
       "      <td>0</td>\n",
       "      <td>0</td>\n",
       "      <td>0</td>\n",
       "      <td>0</td>\n",
       "      <td>0</td>\n",
       "      <td>0</td>\n",
       "      <td>...</td>\n",
       "      <td>0</td>\n",
       "      <td>0</td>\n",
       "      <td>0</td>\n",
       "      <td>0</td>\n",
       "      <td>0</td>\n",
       "      <td>0</td>\n",
       "      <td>0</td>\n",
       "      <td>0</td>\n",
       "      <td>0</td>\n",
       "      <td>0</td>\n",
       "    </tr>\n",
       "    <tr>\n",
       "      <th>3</th>\n",
       "      <td>1</td>\n",
       "      <td>0</td>\n",
       "      <td>0</td>\n",
       "      <td>0</td>\n",
       "      <td>0</td>\n",
       "      <td>0</td>\n",
       "      <td>0</td>\n",
       "      <td>0</td>\n",
       "      <td>0</td>\n",
       "      <td>0</td>\n",
       "      <td>...</td>\n",
       "      <td>0</td>\n",
       "      <td>0</td>\n",
       "      <td>0</td>\n",
       "      <td>0</td>\n",
       "      <td>0</td>\n",
       "      <td>0</td>\n",
       "      <td>0</td>\n",
       "      <td>0</td>\n",
       "      <td>0</td>\n",
       "      <td>0</td>\n",
       "    </tr>\n",
       "    <tr>\n",
       "      <th>4</th>\n",
       "      <td>9</td>\n",
       "      <td>0</td>\n",
       "      <td>0</td>\n",
       "      <td>0</td>\n",
       "      <td>0</td>\n",
       "      <td>0</td>\n",
       "      <td>0</td>\n",
       "      <td>0</td>\n",
       "      <td>0</td>\n",
       "      <td>0</td>\n",
       "      <td>...</td>\n",
       "      <td>0</td>\n",
       "      <td>0</td>\n",
       "      <td>0</td>\n",
       "      <td>0</td>\n",
       "      <td>0</td>\n",
       "      <td>0</td>\n",
       "      <td>0</td>\n",
       "      <td>0</td>\n",
       "      <td>0</td>\n",
       "      <td>0</td>\n",
       "    </tr>\n",
       "  </tbody>\n",
       "</table>\n",
       "<p>5 rows × 785 columns</p>\n",
       "</div>"
      ],
      "text/plain": [
       "   0.0    1.0    2.0    3.0    4.0    5.0    6.0    7.0    8.0    9.0    ...  \\\n",
       "0      5      0      0      0      0      0      0      0      0      0  ...   \n",
       "1      0      0      0      0      0      0      0      0      0      0  ...   \n",
       "2      4      0      0      0      0      0      0      0      0      0  ...   \n",
       "3      1      0      0      0      0      0      0      0      0      0  ...   \n",
       "4      9      0      0      0      0      0      0      0      0      0  ...   \n",
       "\n",
       "   775.0  776.0  777.0  778.0  779.0  780.0  781.0  782.0  783.0  784.0  \n",
       "0      0      0      0      0      0      0      0      0      0      0  \n",
       "1      0      0      0      0      0      0      0      0      0      0  \n",
       "2      0      0      0      0      0      0      0      0      0      0  \n",
       "3      0      0      0      0      0      0      0      0      0      0  \n",
       "4      0      0      0      0      0      0      0      0      0      0  \n",
       "\n",
       "[5 rows x 785 columns]"
      ]
     },
     "execution_count": 5,
     "metadata": {},
     "output_type": "execute_result"
    }
   ],
   "source": [
    "train.head()"
   ]
  },
  {
   "cell_type": "markdown",
   "metadata": {},
   "source": [
    "## Ejercicio 1"
   ]
  },
  {
   "cell_type": "markdown",
   "metadata": {},
   "source": [
    " \n",
    "### (a) Realizar una funcion en python que dado los datos de las imagenes de entrenamiento y una fila, grafique la imagen guardada en esa fila y en el tıtulo del grafico se indique a que numero corresponde, es decir su clasificacion. Usar la funcion imshow() de pyplot.\n"
   ]
  },
  {
   "cell_type": "code",
   "execution_count": 7,
   "metadata": {},
   "outputs": [
    {
     "data": {
      "image/png": "[encoded data removed]",
      "text/plain": [
       "<Figure size 640x480 with 1 Axes>"
      ]
     },
     "metadata": {},
     "output_type": "display_data"
    }
   ],
   "source": [
    "\n",
    "def graficar(df,fila):\n",
    "    plt.imshow(np.array(df.iloc[fila,1:]).reshape(28,28),cmap='gray')\n",
    "    numero = df.iloc[fila,0]\n",
    "    plt.title(f'Numero: {numero}')\n",
    "    plt.show()\n",
    "\n",
    "#prueNumero: ',test.iloc[indices_imagenes_no_acertadas[r],0]ba:\n",
    "    \n",
    "fila = np.random.randint(0, len(train)) #Elegimos una imagen al azar\n",
    "graficar(train,fila)"
   ]
  },
  {
   "cell_type": "markdown",
   "metadata": {},
   "source": [
    "### (b) ¿Cuantas imagenes hay por cada dıgito en el conjunto de entrenamiento? ¿Y en el conjunto de testeo?"
   ]
  },
  {
   "cell_type": "code",
   "execution_count": 12,
   "metadata": {},
   "outputs": [
    {
     "name": "stdout",
     "output_type": "stream",
     "text": [
      "=========================\n",
      "Conjunto de entrenamiento\n",
      "=========================\n",
      "Las cantidades por digito son: \n",
      "0    5923\n",
      "1    6742\n",
      "2    5958\n",
      "3    6131\n",
      "4    5842\n",
      "5    5421\n",
      "6    5918\n",
      "7    6265\n",
      "8    5851\n",
      "9    5949\n",
      "Name: 0.0, dtype: int64\n",
      "=========================\n",
      "Conjunto de testeo\n",
      "=========================\n",
      "Las cantidades por digito son: \n",
      "0     980\n",
      "1    1135\n",
      "2    1032\n",
      "3    1010\n",
      "4     982\n",
      "5     892\n",
      "6     958\n",
      "7    1028\n",
      "8     974\n",
      "9    1009\n",
      "Name: 0.0, dtype: int64\n"
     ]
    }
   ],
   "source": [
    "cantidad_de_imagenes_por_numero_train = train[0].value_counts().sort_index()\n",
    "print(\"=========================\\nConjunto de entrenamiento\\n=========================\")\n",
    "print(\"Las cantidades por digito son: \")\n",
    "print(cantidad_de_imagenes_por_numero_train)\n",
    "cantidad_de_imagenes_por_numero_test = test[0].value_counts().sort_index()\n",
    "print(\"=========================\\nConjunto de testeo\\n=========================\")\n",
    "print(\"Las cantidades por digito son: \")\n",
    "print(cantidad_de_imagenes_por_numero_test)\n"
   ]
  },
  {
   "cell_type": "code",
   "execution_count": 13,
   "metadata": {},
   "outputs": [
    {
     "name": "stdout",
     "output_type": "stream",
     "text": [
      "====================================\n",
      "Conjunto de entrenamiento y testeo\n",
      "====================================\n",
      "Las cantidades por dígito son: \n",
      "\n",
      "        Conjunto de entrenamiento  Conjunto de testeo\n",
      "Dígito                                               \n",
      "0                            5923                 980\n",
      "1                            6742                1135\n",
      "2                            5958                1032\n",
      "3                            6131                1010\n",
      "4                            5842                 982\n",
      "5                            5421                 892\n",
      "6                            5918                 958\n",
      "7                            6265                1028\n",
      "8                            5851                 974\n",
      "9                            5949                1009\n"
     ]
    }
   ],
   "source": [
    "# Muestro resultados en una sola tabla para una mejor comparacion\n",
    "df_train = pd.DataFrame({'Conjunto de entrenamiento': cantidad_de_imagenes_por_numero_train})\n",
    "df_test = pd.DataFrame({'Conjunto de testeo': cantidad_de_imagenes_por_numero_test})\n",
    "df_combined = pd.concat([df_train, df_test], axis=1)\n",
    "df_combined.index.name = 'Dígito'\n",
    "print(\"====================================\\nConjunto de entrenamiento y testeo\\n====================================\")\n",
    "print(\"Las cantidades por dígito son: \\n\")\n",
    "print(df_combined)"
   ]
  },
  {
   "cell_type": "markdown",
   "metadata": {},
   "source": [
    "### (c) Para las primeras 2.000 imagenes del conjunto de entrenamiento realizar una funcion en python que devuelva la imagen promedio de cada uno de los dıgitos."
   ]
  },
  {
   "cell_type": "code",
   "execution_count": 15,
   "metadata": {},
   "outputs": [
    {
     "ename": "NameError",
     "evalue": "name 'imagenes' is not defined",
     "output_type": "error",
     "traceback": [
      "\u001b[0;31m---------------------------------------------------------------------------\u001b[0m",
      "\u001b[0;31mNameError\u001b[0m                                 Traceback (most recent call last)",
      "Cell \u001b[0;32mIn[6], line 10\u001b[0m\n\u001b[1;32m      8\u001b[0m imagenes_n \u001b[38;5;241m=\u001b[39m df_n\u001b[38;5;241m.\u001b[39mto_numpy()    \u001b[38;5;66;03m#convertimos el df en un array bidimensional de numpy\u001b[39;00m\n\u001b[1;32m      9\u001b[0m imagen_promedio \u001b[38;5;241m=\u001b[39m np\u001b[38;5;241m.\u001b[39mmean(imagenes_n,axis\u001b[38;5;241m=\u001b[39m\u001b[38;5;241m0\u001b[39m)  \u001b[38;5;66;03m# .mean() calcula el promedio de todas las imagenes que se encuentran como filas de la matriz 'imagenes_n'\u001b[39;00m\n\u001b[0;32m---> 10\u001b[0m \u001b[43mimagenes\u001b[49m\u001b[38;5;241m.\u001b[39mappend(imagen_promedio)\n\u001b[1;32m     11\u001b[0m \u001b[38;5;28mglobals\u001b[39m()[\u001b[38;5;124m'\u001b[39m\u001b[38;5;124mimagen_\u001b[39m\u001b[38;5;124m'\u001b[39m\u001b[38;5;241m+\u001b[39m\u001b[38;5;28mstr\u001b[39m(n)] \u001b[38;5;241m=\u001b[39m imagen_promedio   \u001b[38;5;66;03m# asignamos la imagen promedio de cada numero 'n' a una variable llamada 'imagen_n' \u001b[39;00m\n",
      "\u001b[0;31mNameError\u001b[0m: name 'imagenes' is not defined"
     ]
    }
   ],
   "source": [
    "imagenes_prom = []   #guardaremos las imagenes en un array para luego graficarlas\n",
    "\n",
    "# aclaracion: las imagenes promedio guardaran el numero que representan en la posicion [0],\n",
    "# para graficarlas habra que omitir el primer elemento del array\n",
    "\n",
    "for n in range(0,10):\n",
    "    df_n = train[train[0] == n].iloc[:2000,:]    #creamos df unicamente con las imagenes del numero n\n",
    "    imagenes_n = df_n.to_numpy()    #convertimos el df en un array bidimensional de numpy\n",
    "    imagen_promedio = np.mean(imagenes_n,axis=0)  # .mean() calcula el promedio de todas las imagenes que se encuentran como filas de la matriz 'imagenes_n'\n",
    "    imagenes_prom.append(imagen_promedio)\n",
    "    globals()['imagen_'+str(n)] = imagen_promedio   # asignamos la imagen promedio de cada numero 'n' a una variable llamada 'imagen_n' \n",
    "\n"
   ]
  },
  {
   "cell_type": "markdown",
   "metadata": {},
   "source": [
    "### (d) Graficar cada una de las imagenes promedio obtenidas."
   ]
  },
  {
   "cell_type": "code",
   "execution_count": 16,
   "metadata": {},
   "outputs": [
    {
     "data": {
      "image/png": "[encoded data removed]",
      "text/plain": [
       "<Figure size 432x288 with 1 Axes>"
      ]
     },
     "metadata": {
      "needs_background": "light"
     },
     "output_type": "display_data"
    },
    {
     "data": {
      "image/png": "[encoded data removed]",
      "text/plain": [
       "<Figure size 432x288 with 1 Axes>"
      ]
     },
     "metadata": {
      "needs_background": "light"
     },
     "output_type": "display_data"
    },
    {
     "data": {
      "image/png": "[encoded data removed]",
      "text/plain": [
       "<Figure size 432x288 with 1 Axes>"
      ]
     },
     "metadata": {
      "needs_background": "light"
     },
     "output_type": "display_data"
    },
    {
     "data": {
      "image/png": "[encoded data removed]",
      "text/plain": [
       "<Figure size 432x288 with 1 Axes>"
      ]
     },
     "metadata": {
      "needs_background": "light"
     },
     "output_type": "display_data"
    },
    {
     "data": {
      "image/png": "[encoded data removed]",
      "text/plain": [
       "<Figure size 432x288 with 1 Axes>"
      ]
     },
     "metadata": {
      "needs_background": "light"
     },
     "output_type": "display_data"
    },
    {
     "data": {
      "image/png": "[encoded data removed]",
      "text/plain": [
       "<Figure size 432x288 with 1 Axes>"
      ]
     },
     "metadata": {
      "needs_background": "light"
     },
     "output_type": "display_data"
    },
    {
     "data": {
      "image/png": "[encoded data removed]",
      "text/plain": [
       "<Figure size 432x288 with 1 Axes>"
      ]
     },
     "metadata": {
      "needs_background": "light"
     },
     "output_type": "display_data"
    },
    {
     "data": {
      "image/png": "[encoded data removed]",
      "text/plain": [
       "<Figure size 432x288 with 1 Axes>"
      ]
     },
     "metadata": {
      "needs_background": "light"
     },
     "output_type": "display_data"
    },
    {
     "data": {
      "image/png": "[encoded data removed]",
      "text/plain": [
       "<Figure size 432x288 with 1 Axes>"
      ]
     },
     "metadata": {
      "needs_background": "light"
     },
     "output_type": "display_data"
    },
    {
     "data": {
      "image/png": "[encoded data removed]",
      "text/plain": [
       "<Figure size 432x288 with 1 Axes>"
      ]
     },
     "metadata": {
      "needs_background": "light"
     },
     "output_type": "display_data"
    }
   ],
   "source": [
    "\n",
    "def graficar_imagenes():\n",
    "    for imagen in imagenes_prom:\n",
    "        plt.imshow(imagen[1:].reshape(28,28),cmap='gray')\n",
    "        plt.show()\n",
    "        \n",
    "graficar_imagenes()"
   ]
  },
  {
   "cell_type": "markdown",
   "metadata": {},
   "source": [
    "# Ejercicio 2"
   ]
  },
  {
   "cell_type": "markdown",
   "metadata": {},
   "source": [
    "### (a) Realizar una funcion en python que dadas las imagenes promedio del ejercicio 2(c), calcule la menor distancia Euclıdea entre todos los dıgitos y cada una de las primeras 200 imagenes de testeo. La funcion debe devolver un arreglo con las 200 predicciones."
   ]
  },
  {
   "cell_type": "code",
   "execution_count": 17,
   "metadata": {},
   "outputs": [],
   "source": [
    "\"\"\"\n",
    "def distancia(imagen1,imagen2):\n",
    "    distancia=0\n",
    "    for i in range(0,784):\n",
    "        distancia+=np.sqrt((imagen1[i]-imagen2[i])**2)\n",
    "    return distancia\n",
    "\"\"\"\n",
    "def distancia(img1,img2):\n",
    "    return np.linalg.norm(img1-img2)\n",
    "\n",
    "# la funcion prediccion() toma la lista de promedios de las imagenes del 0 al 9, y una imagen a testear \n",
    "# la array a testear debe tener en la posicion [0] el numero de la imagen: tamaño de 785\n",
    "# devolvera un float\n",
    "\n",
    "def prediccion(imagenes,imagen_test):\n",
    "    prediccion=imagenes[0] #imagen_0, a mi me tira error por ser variable global\n",
    "    for imagen in imagenes_prom:\n",
    "        # se le saca el primer elemento al array (que indica el numero de la imagen)\n",
    "        if distancia(imagen[1:],imagen_test[1:]) <= distancia(prediccion[1:],imagen_test[1:]):\n",
    "            prediccion=imagen\n",
    "    return int(prediccion[0])\n",
    "\n",
    "def prediccion_aux(imagenes,imagen_test):\n",
    "    prediccion=imagenes[0]\n",
    "    for imagen in imagenes_prom:\n",
    "        # se le saca el primer elemento al array (que indica el numero de la imagen)\n",
    "        if distancia(imagen[1:],imagen_test) <= distancia(prediccion[1:],imagen_test):\n",
    "            prediccion=imagen\n",
    "    return int(prediccion[0])\n",
    "         \n",
    "\n",
    "# la funcion prediccion_200() toma un df (test) y la lista de promedios de las imagenes\n",
    "# devolvera una lista de 200 predicciones, de las primeras 200 imagenes del dataframe\n",
    "\n",
    "def prediccion_200_Aux(df_test,imagenes_p):\n",
    "    df = df_test.iloc[:200,test.columns[1:]].values\n",
    "    predicciones = []\n",
    "    for i in range(200):\n",
    "        imgTest_i = df[i]\n",
    "        pred_i = prediccion_aux(imagenes_p,imgTest_i)\n",
    "        predicciones.append(pred_i)\n",
    "    return predicciones\n",
    "\n",
    "def prediccion_200(df,imagenes):\n",
    "    df = df.iloc[:200,:]\n",
    "    predicciones=[]\n",
    "    for i in range(0,200):\n",
    "        imagen_i = np.array(df.iloc[i,:])   # se recorren las imagenes \n",
    "        prediccion_i = prediccion(imagenes,imagen_i)  # se realiza la prediccion de la imagen actual\n",
    "        predicciones.append(prediccion_i)\n",
    "    return predicciones"
   ]
  },
  {
   "cell_type": "markdown",
   "metadata": {},
   "source": [
    "### (b) Realizar una funcion en python que tome el arreglo de predicciones anteriores y evalue si es correcta o no la prediccion. Debe devolver la precision en la prediccion. Se define la precision como:  precision = Σ(Casos acierto) / Σ(Casos totales)"
   ]
  },
  {
   "cell_type": "code",
   "execution_count": 18,
   "metadata": {},
   "outputs": [
    {
     "name": "stdout",
     "output_type": "stream",
     "text": [
      "Precision:  0.83\n"
     ]
    }
   ],
   "source": [
    "def precision(df,imagenes):\n",
    "    df = df.iloc[:200,:]\n",
    "    predicciones = np.array(prediccion_200(df,imagenes))    # array de las 200 predicciones\n",
    "    valores_posta = np.array(df.iloc[:,0])  # array de los valores reales de cada imagen\n",
    "    # (predicciones == valores_posta) es un array de booleanos, contamos los valores 'True', \n",
    "    # es decir las coincidencias entre los array\n",
    "    aciertos = pd.DataFrame(predicciones == valores_posta).value_counts()[True]     \n",
    "    return aciertos/200\n",
    "   \n",
    "\n",
    "def precision_aux(df_test, imagenes_p):\n",
    "    predicciones = prediccion_200_Aux(df_test,imagenes_p)\n",
    "    y_test = df_test.iloc[:200,0].values #.values para pasar a array numpy\n",
    "    aciertos = sum(predicciones == y_test)\n",
    "    return aciertos/200\n",
    "\n",
    "print(\"Precision: \", precision_aux(test,imagenes_prom))"
   ]
  },
  {
   "cell_type": "markdown",
   "metadata": {},
   "source": [
    "### (c) Graficar un par de casos de imagenes de testeo en los cuales no se haya acertado. ¿Considera buena la precision?"
   ]
  },
  {
   "cell_type": "code",
   "execution_count": 23,
   "metadata": {},
   "outputs": [],
   "source": [
    "\n",
    "def imagenes_no_acertadas(df,imagenes):\n",
    "    df = df.iloc[:200,:]\n",
    "    predicciones = np.array(prediccion_200(df,imagenes))    # array de las 200 predicciones\n",
    "    valores_posta = np.array(df.iloc[:,0])  # array de los valores reales de cada imagen\n",
    "    no_acertadas = pd.DataFrame(predicciones == valores_posta)     \n",
    "    indices_imagenes_no_acertadas = no_acertadas[no_acertadas[0] == False].index\n",
    "    return indices_imagenes_no_acertadas\n",
    "\n",
    "\n",
    "def graficar_num_no_acertado():\n",
    "    indices_imagenes_no_acertadas = imagenes_no_acertadas(test,imagenes_prom)\n",
    "    #generamos numero random para graficar alguna de las imagenes no acertadas\n",
    "    r = np.random.randint(0,len(indices_imagenes_no_acertadas))\n",
    "\n",
    "    # printeos extras\n",
    "    numero = test.iloc[indices_imagenes_no_acertadas[r],0]\n",
    "    indice = indices_imagenes_no_acertadas[r]\n",
    "    predic = prediccion(imagenes_prom,np.array(test.iloc[indices_imagenes_no_acertadas[r],:]))\n",
    "    print('Numero: ',numero)\n",
    "    print('Indice: ',indice)\n",
    "    print('Prediccion: ',predic)\n",
    "    print('Distancia al ',numero,' (valor real): ',distancia(imagenes_prom[numero][1:],np.array(test.iloc[indice,1:])))\n",
    "    print('Distancia al ',predic,' (prediccion): ',distancia(imagenes_prom[predic][1:],np.array(test.iloc[indice,1:])))\n",
    "\n",
    "    graficar(test,indices_imagenes_no_acertadas[r]) \n",
    "    \n",
    "    \n",
    "\n",
    "def imgs_no_acertadas(df_test,imagenes_p):\n",
    "    df_test = df_test.iloc[:200,:]\n",
    "    predicciones = prediccion_200_Aux(df_test,imagenes_p)\n",
    "    y_test = df_test.iloc[:200,0].values\n",
    "    indices = predicciones != y_test\n",
    "    res = df_test.iloc[indices,:] \n",
    "    res = res.reset_index(drop=True) #reseteo los indices, pues ya no son continuos\n",
    "    return res\n",
    "\n",
    "def graficar_alguna_img_yeta():\n",
    "    imgs = imgs_no_acertadas(test,imagenes_prom)\n",
    "    cant_imgs = len(imgs)\n",
    "    i = np.random.randint(0, cant_imgs)\n",
    "    \n",
    "    img_no_acert =imgs.iloc[i,1:]\n",
    "    pred = prediccion(imagenes_prom,img_no_acert)\n",
    "    \n",
    "    graficar(imgs,i)\n",
    "    print(\"prediccion: \",pred)\n",
    "    "
   ]
  },
  {
   "cell_type": "code",
   "execution_count": 88,
   "metadata": {},
   "outputs": [
    {
     "data": {
      "image/png": "[encoded data removed]",
      "text/plain": [
       "<Figure size 432x288 with 1 Axes>"
      ]
     },
     "metadata": {
      "needs_background": "light"
     },
     "output_type": "display_data"
    },
    {
     "name": "stdout",
     "output_type": "stream",
     "text": [
      "prediccion:  2\n"
     ]
    }
   ],
   "source": [
    "graficar_alguna_img_yeta()\n"
   ]
  },
  {
   "cell_type": "markdown",
   "metadata": {},
   "source": [
    "# EJERCICIO 3\n"
   ]
  },
  {
   "cell_type": "markdown",
   "metadata": {},
   "source": [
    "\n",
    "## Implemetar una funcion en Python que dada una matriz A halle la descomposicion SVD de A, por el metodo de la potencia. Llamamos descomposicion SVD en valores singulares a: $$A = U ΣV T $$ Implemetar una funcion en Python que dada una matriz A halle la descomposicion SVD de A, por el metodo de la potencia.\n"
   ]
  },
  {
   "cell_type": "code",
   "execution_count": null,
   "metadata": {},
   "outputs": [],
   "source": []
  }
 ],
 "metadata": {
  "kernelspec": {
   "display_name": "Python 3",
   "language": "python",
   "name": "python3"
  },
  "language_info": {
   "codemirror_mode": {
    "name": "ipython",
    "version": 3
   },
   "file_extension": ".py",
   "mimetype": "text/x-python",
   "name": "python",
   "nbconvert_exporter": "python",
   "pygments_lexer": "ipython3",
   "version": "3.8.8"
  }
 },
 "nbformat": 4,
 "nbformat_minor": 4
}
