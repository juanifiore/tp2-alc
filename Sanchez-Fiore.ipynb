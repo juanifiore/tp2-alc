{
 "cells": [
  {
   "cell_type": "markdown",
   "id": "51b746dd",
   "metadata": {},
   "source": [
    "**EJERCICIO 1**\n",
    "\n",
    "(a) Realizar una funcion en python que dado los datos de las imagenes de entrenamiento y una\n",
    "fila, grafique la imagen guardada en esa fila y en el tıtulo del grafico se indique a que numero\n",
    "corresponde, es decir su clasificacion. Usar la funcion imshow() de pyplot."
   ]
  },
  {
   "cell_type": "code",
   "execution_count": null,
   "id": "f8cd1499",
   "metadata": {},
   "outputs": [],
   "source": []
  }
 ],
 "metadata": {
  "kernelspec": {
   "display_name": "Python 3",
   "language": "python",
   "name": "python3"
  },
  "language_info": {
   "codemirror_mode": {
    "name": "ipython",
    "version": 3
   },
   "file_extension": ".py",
   "mimetype": "text/x-python",
   "name": "python",
   "nbconvert_exporter": "python",
   "pygments_lexer": "ipython3",
   "version": "3.8.8"
  }
 },
 "nbformat": 4,
 "nbformat_minor": 5
}
